{
 "cells": [
  {
   "cell_type": "markdown",
   "metadata": {},
   "source": [
    "# TRANSFORMANDO DADOS HDF5Matrix EM IMAGENS"
   ]
  },
  {
   "cell_type": "code",
   "execution_count": null,
   "metadata": {},
   "outputs": [],
   "source": [
    "from keras.utils import HDF5Matrix\n",
    "from keras.utils import np_utils\n",
    "from keras.preprocessing.image import ImageDataGenerator\n",
    "import keras.models \n",
    "import numpy as np\n",
    "from keras.models import Sequential\n",
    "from keras.models import model_from_json\n",
    "import tensorflow as tf\n",
    "from keras.layers import Dense\n",
    "import matplotlib as plt\n",
    "from keras.utils import np_utils\n",
    "import os\n",
    "from keras.layers import LSTM\n",
    "from keras.layers import Activation\n",
    "from keras.layers import Input, Flatten,Conv2D, MaxPooling2D,Dropout,BatchNormalization,Embedding\n",
    "from sklearn.metrics import roc_curve\n",
    "from sklearn.metrics import auc"
   ]
  },
  {
   "cell_type": "markdown",
   "metadata": {},
   "source": [
    "# CARREGANDO BASE DE DADOS"
   ]
  },
  {
   "cell_type": "code",
   "execution_count": null,
   "metadata": {},
   "outputs": [],
   "source": [
    "X_Teste = HDF5Matrix('C:\\\\Users\\\\Renesio\\\\Documents\\\\TCC2\\\\camelyonpatch_level_2_split_test_x.h5\\\\camelyonpatch_level_2_split_test_x.h5', 'x')\n",
    "Y_Teste = HDF5Matrix('C:\\\\Users\\\\Renesio\\\\Documents\\\\TCC2\\\\camelyonpatch_level_2_split_test_y.h5\\\\camelyonpatch_level_2_split_test_y.h5', 'y')\n",
    "\n",
    "datagen2= ImageDataGenerator(\n",
    "              preprocessing_function=lambda x: x/255.,\n",
    "              width_shift_range=4,  # randomly shift images horizontally\n",
    "              height_shift_range=4,  # randomly shift images vertically \n",
    "              horizontal_flip=True,  # randomly flip images\n",
    "              vertical_flip=True)  # randomly flip images\n",
    "              "
   ]
  },
  {
   "cell_type": "code",
   "execution_count": null,
   "metadata": {},
   "outputs": [],
   "source": [
    "XTESTE= []\n",
    "for i in range(len(X_Teste)):\n",
    "   \n",
    "    XTESTE.append(X_Teste[i])\n",
    "\n",
    "\n",
    "XTESTE= np.array(XTESTE)\n"
   ]
  },
  {
   "cell_type": "code",
   "execution_count": null,
   "metadata": {},
   "outputs": [],
   "source": [
    "yteste=[]\n",
    "\n",
    "for i in range(len(Y_Teste)):\n",
    "    yteste.append(Y_Teste[i])\n",
    "\n",
    "\n",
    "yteste = np.array(yteste)\n",
    "yteste = yteste.reshape(len(Y_Teste),1)"
   ]
  },
  {
   "cell_type": "markdown",
   "metadata": {},
   "source": [
    "# CODIGO PARA REDIMENSSIONAR A IMAGEM NO TENSORFLOW 1.1.15"
   ]
  },
  {
   "cell_type": "code",
   "execution_count": null,
   "metadata": {},
   "outputs": [],
   "source": [
    "image = [224,224]\n",
    "\n",
    "Xt  = []\n",
    "with tf.Session() as sess:\n",
    "    \n",
    "    Xt = sess.run(tf.image.resize_images(\n",
    "    XTESTE,\n",
    "    image,\n",
    "    method=tf.image.ResizeMethod.BILINEAR,\n",
    "    align_corners=False,\n",
    "    preserve_aspect_ratio=False\n",
    "))\n",
    "             \n",
    "             "
   ]
  },
  {
   "cell_type": "code",
   "execution_count": null,
   "metadata": {},
   "outputs": [],
   "source": [
    "YTeste=[]\n",
    "\n",
    "YTeste = np.array(Y_Teste)\n",
    "YTeste = YTeste.reshape(len(Y_Teste),1)\n"
   ]
  },
  {
   "cell_type": "markdown",
   "metadata": {},
   "source": [
    "# TRANSFORMANDO OS DADOS EM IMAGENS COM O OPENCV CV2"
   ]
  },
  {
   "cell_type": "code",
   "execution_count": null,
   "metadata": {},
   "outputs": [],
   "source": [
    "import cv2\n",
    "for i in range(32768):\n",
    "    \n",
    "    \n",
    "    if(yteste[i] == 0):\n",
    "        \n",
    "        cv2.imwrite(\"C:\\\\Users\\\\Renesio\\\\Documents\\\\TCC2\\\\imagens\\\\TESTE\\\\0\\\\%d.png\"%i, XTESTE[i])    \n",
    "    \n",
    "    if(yteste[i] == 1):\n",
    "        \n",
    "        cv2.imwrite(\"C:\\\\Users\\\\Renesio\\\\Documents\\\\TCC2\\\\imagens\\\\TESTE\\\\1\\\\%d.png\"%i,XTESTE[i])  \n",
    "    \n",
    "    cv2.waitKey(0)"
   ]
  }
 ],
 "metadata": {
  "kernelspec": {
   "display_name": "Python 3",
   "language": "python",
   "name": "python3"
  },
  "language_info": {
   "codemirror_mode": {
    "name": "ipython",
    "version": 3
   },
   "file_extension": ".py",
   "mimetype": "text/x-python",
   "name": "python",
   "nbconvert_exporter": "python",
   "pygments_lexer": "ipython3",
   "version": "3.7.4"
  }
 },
 "nbformat": 4,
 "nbformat_minor": 2
}
