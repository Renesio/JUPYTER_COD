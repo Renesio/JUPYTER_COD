{
 "cells": [
  {
   "cell_type": "markdown",
   "metadata": {},
   "source": [
    "# IMPORTAÇÃO E DOWNLOAD DOS PESOS"
   ]
  },
  {
   "cell_type": "code",
   "execution_count": null,
   "metadata": {},
   "outputs": [],
   "source": [
    "from keras.preprocessing import image\n",
    "from keras.applications.vgg16 import VGG16\n",
    "import keras.applications.vgg16 as vgg16\n",
    "from keras.applications.vgg19 import VGG19\n",
    "import keras.applications.vgg19 as vgg19\n",
    "from keras.applications.xception import Xception\n",
    "import keras.applications.xception as xception\n",
    "from keras.applications.resnet50 import ResNet50\n",
    "import keras.applications.resnet50 as resnet\n",
    "\n",
    "import numpy as np\n",
    "from keras.models import Model\n",
    "\n",
    "model = VGG16(weights='imagenet', include_top=True)\n",
    "layer_name = 'fc2'\n",
    "\n",
    "#model = VGG19(weights='imagenet', include_top=True)\n",
    "#layer_name = 'fc2'\n",
    "\n",
    "#model = Xception(weights='imagenet', include_top=True)\n",
    "#layer_name = 'avg_pool'\n",
    "\n",
    "#model = ResNet50(weights='imagenet', include_top=True)\n",
    "#layer_name = 'avg_pool'\n",
    "\n",
    "intermediate_layer_model = Model(inputs=model.input,\n",
    "                                     outputs=model.get_layer(layer_name).output)\n",
    "   \n",
    "#model.summary()\n"
   ]
  },
  {
   "cell_type": "markdown",
   "metadata": {},
   "source": [
    "# CAPTURANDO A  BASE DE DADOS"
   ]
  },
  {
   "cell_type": "code",
   "execution_count": null,
   "metadata": {},
   "outputs": [],
   "source": [
    "import glob\n",
    "import pandas as pd\n",
    "\n",
    "path_database = 'C:\\\\Users\\\\Renesio\\\\Documents\\\\TCC2\\\\tes\\\\'\n",
    "path_write = 'C:\\\\Users\\\\Renesio\\\\Documents\\\\TCC2\\\\resultados_TL\\\\RESULTADO_1000VGG16.csv'\n",
    "\n",
    "classes = glob.glob(path_database + '*')"
   ]
  },
  {
   "cell_type": "markdown",
   "metadata": {},
   "source": [
    "# EXTRAINDO CARACTERISTICAS"
   ]
  },
  {
   "cell_type": "code",
   "execution_count": null,
   "metadata": {},
   "outputs": [],
   "source": [
    "def extract_feature_one_image_VGG16(img_path,intermediate_layer_model,\n",
    "                              input_img=224):\n",
    "    img = image.load_img(img_path, target_size=(input_img, input_img))\n",
    "    img_data = image.img_to_array(img)\n",
    "    img_data = np.expand_dims(img_data, axis=0)\n",
    "    img_data = vgg16.preprocess_input(img_data)\n",
    "    features = intermediate_layer_model.predict(img_data)\n",
    "    return features"
   ]
  },
  {
   "cell_type": "code",
   "execution_count": null,
   "metadata": {},
   "outputs": [],
   "source": [
    "import glob\n",
    "import pandas as pd\n",
    "\n",
    "classes = glob.glob(path_database + '*')\n",
    "cont_classe = 0\n",
    "cont = 0\n",
    "features_labels_two_classes = pd.DataFrame()\n",
    "for classe in classes:\n",
    "    features = []\n",
    "    images_names = glob.glob(classe + '/*.*')\n",
    "    print('\\r', cont_classe, end='')\n",
    "    print(\"\\n\")\n",
    "    for image_name in images_names:\n",
    "        print('\\r', cont, end='')\n",
    "        features.append(extract_feature_one_image_VGG16(image_name,\n",
    "                                                         intermediate_layer_model))\n",
    "        \n",
    "        cont+=1\n",
    "    features_labels = np.asarray(features)\n",
    "    features_labels = features_labels.reshape((features_labels.shape[0],\n",
    "                                               features_labels.shape[2]))\n",
    "    features_labels = pd.DataFrame(data=features_labels)\n",
    "    features_labels['Labels'] = np.uint8(cont_classe)\n",
    "    features_labels_two_classes = features_labels_two_classes.append(features_labels, \n",
    "                                                                ignore_index=True)\n",
    "    cont_classe+=1\n",
    "\n",
    "features_labels_two_classes.to_csv(path_write,index=False)\n",
    "print('Terminou...!!')"
   ]
  },
  {
   "cell_type": "code",
   "execution_count": null,
   "metadata": {},
   "outputs": [],
   "source": []
  }
 ],
 "metadata": {
  "kernelspec": {
   "display_name": "Python 3",
   "language": "python",
   "name": "python3"
  },
  "language_info": {
   "codemirror_mode": {
    "name": "ipython",
    "version": 3
   },
   "file_extension": ".py",
   "mimetype": "text/x-python",
   "name": "python",
   "nbconvert_exporter": "python",
   "pygments_lexer": "ipython3",
   "version": "3.7.4"
  }
 },
 "nbformat": 4,
 "nbformat_minor": 2
}
