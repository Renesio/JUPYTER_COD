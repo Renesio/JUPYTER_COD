{
 "cells": [
  {
   "cell_type": "markdown",
   "metadata": {},
   "source": [
    "# IMPORTAÇÕES DE PACOTES NECESSÁRIOS"
   ]
  },
  {
   "cell_type": "code",
   "execution_count": null,
   "metadata": {},
   "outputs": [],
   "source": [
    "from keras.utils import HDF5Matrix\n",
    "from keras.utils import np_utils\n",
    "from keras.preprocessing.image import ImageDataGenerator\n",
    "import keras.models \n",
    "import numpy as np\n",
    "from keras.models import Sequential\n",
    "from keras.models import model_from_json\n",
    "import tensorflow as tf\n",
    "from keras.layers import Dense\n",
    "import matplotlib as plt\n",
    "from keras.utils import np_utils\n",
    "import os\n",
    "from keras.layers import LSTM\n",
    "from keras.layers import Activation\n",
    "from keras.layers import Input, Flatten,Conv2D, MaxPooling2D,Dropout,BatchNormalization,Embedding\n",
    "from sklearn.metrics import roc_curve\n",
    "from sklearn.metrics import auc\n"
   ]
  },
  {
   "cell_type": "markdown",
   "metadata": {},
   "source": [
    "# CARREGANDO BASE DE DADOS EM FORMATO HDF5Matrix"
   ]
  },
  {
   "cell_type": "code",
   "execution_count": null,
   "metadata": {},
   "outputs": [],
   "source": [
    "X_Treino =np.asarray(HDF5Matrix('C:\\\\Users\\\\Renesio\\\\Documents\\\\TCC2\\\\camelyonpatch_level_2_split_train_x.h5~\\\\camelyonpatch_level_2_split_train_x.h5', 'x'))\n",
    "Y_Treino =np.asarray(HDF5Matrix('C:\\\\Users\\\\Renesio\\\\Documents\\\\TCC2\\\\camelyonpatch_level_2_split_train_y.h5\\\\camelyonpatch_level_2_split_train_y.h5', 'y'))\n",
    "\n",
    "datagen = ImageDataGenerator(\n",
    "              preprocessing_function=lambda X_Treino: X_Treino/255.,\n",
    "              width_shift_range=4,  # randomly shift images horizontally\n",
    "              height_shift_range=4,  # randomly shift images vertically \n",
    "              horizontal_flip=True,  # randomly flip images\n",
    "              vertical_flip=True)  # randomly flip images\n",
    "              "
   ]
  },
  {
   "cell_type": "markdown",
   "metadata": {},
   "source": [
    "# APLICANDO UM REDIMENSIONAMENTO NA MATRIZ DE LABELS "
   ]
  },
  {
   "cell_type": "code",
   "execution_count": null,
   "metadata": {},
   "outputs": [],
   "source": [
    "import tensorflow as tf\n",
    "Y_Treino = Y_Treino.reshape(len(Y_Treino),1)\n"
   ]
  },
  {
   "cell_type": "markdown",
   "metadata": {},
   "source": [
    "# CRIAÇÃO DO MODELO CONVOLUCIONAL A SER TREINADO "
   ]
  },
  {
   "cell_type": "code",
   "execution_count": null,
   "metadata": {},
   "outputs": [],
   "source": [
    "import os\n",
    "from keras.layers import LSTM\n",
    "from keras.layers import Activation\n",
    "from keras.layers import Input, Flatten,Conv2D, MaxPooling2D,Dropout,BatchNormalization\n",
    "\n",
    "batch_size = 8\n",
    "\n",
    "\n",
    "model = Sequential()\n",
    "\n",
    "model.add(Conv2D(96, (3, 3), activation='relu', input_shape=(96,96,3)))\n",
    "model.add(MaxPooling2D((2, 2)))\n",
    "model.add(BatchNormalization())\n",
    "\n",
    "model.add(Conv2D(128, (3, 3), activation='relu'))\n",
    "model.add(MaxPooling2D((2, 2)))\n",
    "model.add(BatchNormalization())\n",
    "\n",
    "model.add(Conv2D(64, (3, 3), activation='relu'))\n",
    "model.add(BatchNormalization())\n",
    "model.add(MaxPooling2D((2, 2)))\n",
    "\n",
    "model.add(Conv2D(128, (3, 3), activation='relu'))\n",
    "model.add(BatchNormalization())\n",
    "model.add(MaxPooling2D((2, 2)))\n",
    "\n",
    "model.add(Conv2D(64, (3, 3), activation='relu'))\n",
    "model.add(BatchNormalization())\n",
    "model.add(MaxPooling2D((2, 2)))\n",
    "\n",
    "\n",
    "\n",
    "model.add(Flatten())\n",
    "\n",
    "model.add(Dense(256, activation='relu'))\n",
    "\n",
    "model.add(Dropout(0.5))\n",
    "\n",
    "model.add(Dense(128, activation='relu'))\n",
    "\n",
    "model.add(Dropout(0.5))\n",
    "\n",
    "model.add(Dense(2, activation='softmax'))\n"
   ]
  },
  {
   "cell_type": "code",
   "execution_count": null,
   "metadata": {},
   "outputs": [],
   "source": [
    " model.summary()"
   ]
  },
  {
   "cell_type": "markdown",
   "metadata": {},
   "source": [
    "# ADCIONANDO TIPOS DE OPTIMIZAÇÃO E METRICAS PARA O TREINO"
   ]
  },
  {
   "cell_type": "code",
   "execution_count": null,
   "metadata": {
    "scrolled": true
   },
   "outputs": [],
   "source": [
    "model.compile(optimizer='rmsprop', loss='sparse_categorical_crossentropy', metrics=['accuracy'])\n"
   ]
  },
  {
   "cell_type": "markdown",
   "metadata": {},
   "source": [
    "# TREINANDO O MODELO"
   ]
  },
  {
   "cell_type": "code",
   "execution_count": null,
   "metadata": {},
   "outputs": [],
   "source": [
    "Hi = model.fit_generator(datagen.flow(X_Treino, Y_Treino, batch_size=4),\n",
    "                    steps_per_epoch=len(X_Treino)/batch_size,\n",
    "                    epochs=3, verbose = 1)"
   ]
  },
  {
   "cell_type": "markdown",
   "metadata": {},
   "source": [
    "# SALVANDO MODELO TREINADO "
   ]
  },
  {
   "cell_type": "code",
   "execution_count": null,
   "metadata": {},
   "outputs": [],
   "source": [
    "from keras.models import model_from_json\n",
    "\n",
    "model_json = model.to_json()\n",
    "with open(\"model.json\", \"w\") as json_file:\n",
    "    \n",
    "    json_file.write(model_json)\n",
    "    \n",
    "model.save_weights(\"model.h5\")\n",
    "print(\"Saved model to disk\")"
   ]
  },
  {
   "cell_type": "markdown",
   "metadata": {},
   "source": [
    "# CAREGANDO BASE DE TESTES"
   ]
  },
  {
   "cell_type": "code",
   "execution_count": null,
   "metadata": {},
   "outputs": [],
   "source": [
    "X_Teste =np.asarray(HDF5Matrix('C:\\\\Users\\\\Renesio\\\\Documents\\\\TCC2\\\\camelyonpatch_level_2_split_test_x.h5\\\\camelyonpatch_level_2_split_test_x.h5', 'x'))\n",
    "Y_Teste = np.asarray(HDF5Matrix('C:\\\\Users\\\\Renesio\\\\Documents\\\\TCC2\\\\camelyonpatch_level_2_split_test_y.h5\\\\camelyonpatch_level_2_split_test_y.h5', 'y'))\n",
    "\n",
    "datagen2= ImageDataGenerator(\n",
    "              preprocessing_function=lambda x: x/255.,\n",
    "              width_shift_range=4,  # randomly shift images horizontally\n",
    "              height_shift_range=4,  # randomly shift images vertically \n",
    "              horizontal_flip=True,  # randomly flip images\n",
    "              vertical_flip=True)  # randomly flip images\n",
    "              "
   ]
  },
  {
   "cell_type": "markdown",
   "metadata": {},
   "source": [
    "# REDIMENSIONANDO A MATRIZ DE LABELS"
   ]
  },
  {
   "cell_type": "code",
   "execution_count": null,
   "metadata": {},
   "outputs": [],
   "source": [
    "Y_Teste = Y_Teste.reshape(len(Y_Teste),1)"
   ]
  },
  {
   "cell_type": "code",
   "execution_count": null,
   "metadata": {},
   "outputs": [],
   "source": [
    "batch_size = 8"
   ]
  },
  {
   "cell_type": "markdown",
   "metadata": {},
   "source": [
    "# CARREGANDO O MODELO TREINADO E TESTANDO A ACURACIA DO MODELO"
   ]
  },
  {
   "cell_type": "code",
   "execution_count": null,
   "metadata": {},
   "outputs": [],
   "source": [
    "from keras.models import model_from_json\n",
    "\n",
    "json_file = open('model.json','r')\n",
    "loaded_model_json = json_file.read()\n",
    "json_file.close()\n",
    "loaded_model = model_from_json(loaded_model_json)\n",
    "# load weights into new model\n",
    "loaded_model.load_weights(\"model.h5\")\n",
    "print(\"Loaded model from disk\")\n",
    " \n",
    "# evaluate loaded model on test data\n",
    "loaded_model.compile(optimizer='rmsprop', loss='sparse_categorical_crossentropy', metrics=['accuracy'])\n",
    "score = loaded_model.evaluate_generator(datagen2.flow(XTeste3, YTeste1, batch_size=8),\n",
    "                    steps=1000,\n",
    "                    verbose = 1)\n",
    "\n",
    "print(\"%s: %.2f%%\" % (model.metrics_names[1], [1]*100))\n"
   ]
  },
  {
   "cell_type": "markdown",
   "metadata": {},
   "source": [
    "# TRANFORMANDO OS DADOS DA MATRIZ DE TESTE 'X' PARA FLOAT .255"
   ]
  },
  {
   "cell_type": "code",
   "execution_count": null,
   "metadata": {},
   "outputs": [],
   "source": [
    "XTeste= Xt.astype('float32')\n",
    "\n",
    "XTeste /= 255"
   ]
  },
  {
   "cell_type": "markdown",
   "metadata": {},
   "source": [
    "# PREDIZENDO RESULTADOS COM BASE NO TREINO NA BASE DE TESTES"
   ]
  },
  {
   "cell_type": "code",
   "execution_count": null,
   "metadata": {},
   "outputs": [],
   "source": [
    "predicaoteste = model.predict_proba(X_Teste)"
   ]
  },
  {
   "cell_type": "markdown",
   "metadata": {},
   "source": [
    "# RESULTADOS OBTIDOS COM O TESTE METRICAS( AUC, ACC, ESP, SENSS, KAPPA)"
   ]
  },
  {
   "cell_type": "code",
   "execution_count": null,
   "metadata": {},
   "outputs": [],
   "source": [
    "from sklearn import metrics\n",
    "\n",
    "import matplotlib.pyplot as plt\n",
    "\n",
    "prediction = predicaoteste\n",
    "\n",
    "fpr, tpr, thresholds = metrics.roc_curve(YTeste1,predicaoteste[:,1])\n",
    "auc=metrics.auc(fpr, tpr)\n",
    "\n",
    "fig = plt.figure()\n",
    "fig.set_size_inches( 15, 5 )\n",
    "rocCurve = fig.add_subplot( 1, 2, 1 )\n",
    "\n",
    "rocCurve.plot(fpr, tpr, color = 'darkgreen', lw = 2, label = 'ROC curve (area = %0.2f)' % auc )\n",
    "rocCurve.plot( [0, 1], [0, 1], color = 'navy', lw = 1, linestyle = '--' )\n",
    "rocCurve.grid()\n",
    "plt.xlim( [0.0, 1.0] )\n",
    "rocCurve.set_xticks( np.arange( -0.1, 1.0, 0.1 ) )\n",
    "plt.ylim( [0.0, 1.05] )\n",
    "rocCurve.set_yticks( np.arange( 0, 1.05, 0.1 ) )\n",
    "plt.xlabel( 'False Positive Rate' )\n",
    "plt.ylabel( 'True Positive Rate' )\n",
    "plt.title( 'ROC' )\n",
    "rocCurve.legend( loc = \"lower right\" )\n",
    "\n",
    "plt.show()\n",
    "\n",
    "cm = metrics.confusion_matrix(YTeste1,predicaoteste[:,1].round(), labels=None, sample_weight=None)\n",
    "TP = cm[0][0] \n",
    "FP = cm[0][1]\n",
    "FN = cm[1][0]\n",
    "TN = cm[1][1]\n",
    "\n",
    "print(\"Matrix Confusion:\\n\\t- Verdadeiro Positivo: \", TP, \"\\n\\t- Falso Positivo: \", FP, \"\\n\\t- Falso Negativo: \", FN, \"\\n\\t- Verdadeiro Negativo: \", TN )\n",
    "\n",
    "total1=sum(sum(cm))\n",
    "\n",
    "accuracy1=((TP+TN)/total1)\n",
    "print ('Accuracy:\\t', accuracy1)\n",
    "\n",
    "sensitivity1 = TP/(TP+FP)\n",
    "print('Sensitivity:\\t', sensitivity1 )\n",
    "\n",
    "specificity1 = TN/(FN+TN)\n",
    "print('Specificity:\\t', specificity1)\n",
    "\n",
    "print(\"Kappa:\\t\\t\", metrics.cohen_kappa_score(YTeste1,predicaoteste[:,1].round() ,labels=None, weights=None, sample_weight=None))"
   ]
  },
  {
   "cell_type": "markdown",
   "metadata": {},
   "source": [
    "# SALVANDO RESULTADOS EM UM CSV"
   ]
  },
  {
   "cell_type": "code",
   "execution_count": null,
   "metadata": {},
   "outputs": [],
   "source": [
    "import csv\n",
    "resultado = []\n",
    "with open('Result2.csv', 'w', newline='') as csvfile:\n",
    "    spamwriter = csv.writer(csvfile, delimiter=',')\n",
    "    for i in range(len(X_Teste)):\n",
    "    \n",
    "        resultado.append([(i,predicaoteste[:,1][i])])\n",
    "    \n",
    "        print(\"[ %s ], Predicted=%s\" % (i, predicaoteste[:,1][i]))\n",
    "        spamwriter.writerow([[i] ,  predicaoteste[:,1][i]])\n",
    "        "
   ]
  },
  {
   "cell_type": "code",
   "execution_count": null,
   "metadata": {},
   "outputs": [],
   "source": []
  }
 ],
 "metadata": {
  "kernelspec": {
   "display_name": "Python 3",
   "language": "python",
   "name": "python3"
  },
  "language_info": {
   "codemirror_mode": {
    "name": "ipython",
    "version": 3
   },
   "file_extension": ".py",
   "mimetype": "text/x-python",
   "name": "python",
   "nbconvert_exporter": "python",
   "pygments_lexer": "ipython3",
   "version": "3.7.4"
  }
 },
 "nbformat": 4,
 "nbformat_minor": 2
}
